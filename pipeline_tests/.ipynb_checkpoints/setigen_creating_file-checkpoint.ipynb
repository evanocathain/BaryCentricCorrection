{
 "cells": [
  {
   "cell_type": "code",
   "execution_count": 4,
   "id": "9765d0ea",
   "metadata": {},
   "outputs": [
    {
     "name": "stdout",
     "output_type": "stream",
     "text": [
      "Python 2.7.18\r\n"
     ]
    }
   ],
   "source": [
    "import setigen as stg"
   ]
  },
  {
   "cell_type": "code",
   "execution_count": 138,
   "id": "3314ad31",
   "metadata": {},
   "outputs": [],
   "source": [
    "from astropy import units as u\n",
    "import matplotlib.pyplot as plt\n",
    "from astropy.coordinates import Angle"
   ]
  },
  {
   "cell_type": "code",
   "execution_count": 156,
   "id": "76b176ca",
   "metadata": {},
   "outputs": [],
   "source": [
    "frame = stg.Frame(#fchans=1024,\n",
    "                  fchans=1048576,\n",
    "                  tchans=16,\n",
    "                  #tchans=107,\n",
    "                  #df=2.7939677238464355*u.Hz,\n",
    "                  df=3.814697266*u.Hz,\n",
    "                  #dt=18.253611008*u.s,\n",
    "                  dt = 16.777216*u.s,\n",
    "                  #fch1=980.0*u.MHz,\n",
    "                  #ascending=True)#To set df postive value \n",
    "                  fch1=984.0*u.MHz,\n",
    "                  ascending=False)#To set df negative value  \n",
    "wf = frame.get_waterfall()\n",
    "#Change telescope ID, RA, DEC, Start MJD\n",
    "wf.header['telescope_id'] = 4\n",
    "\n",
    "#frame = stg.Frame(waterfall=wf)"
   ]
  },
  {
   "cell_type": "code",
   "execution_count": 157,
   "id": "c5d9c892",
   "metadata": {},
   "outputs": [
    {
     "name": "stdout",
     "output_type": "stream",
     "text": [
      "blimpy.waterfall INFO     Conversion time: 0.27sec\n",
      "blimpy.waterfall INFO     Conversion time: 0.29sec\n",
      "blimpy.waterfall INFO     Conversion time: 0.25sec\n",
      "blimpy.waterfall INFO     Conversion time: 0.22sec\n"
     ]
    }
   ],
   "source": [
    "def injectETI(frame):\n",
    "    noise = frame.add_noise(x_mean=10, noise_type='chi2')\n",
    "    signal = frame.add_signal(stg.constant_path(f_start=frame.get_frequency(index=524288),\n",
    "                                                drift_rate=0*u.Hz/u.s),\n",
    "                              stg.constant_t_profile(level=frame.get_intensity(snr=1000)),\n",
    "                              stg.gaussian_f_profile(width=1*u.Hz),\n",
    "                              stg.constant_bp_profile(level=1))\n",
    "\n",
    "    #fig = plt.figure(figsize=(10, 6))\n",
    "    #frame.render()\n",
    "    #plt.savefig('frame.png', bbox_inches='tight')\n",
    "    #plt.show()\n",
    "    #frame.save_fil(filename='frame.fil')\n",
    "    return frame\n",
    "\n",
    "\n",
    "#Prox Sen\n",
    "wf.header['src_raj'] = Angle(\"14h29m42.9s\")\n",
    "wf.header['src_dej'] = Angle(\"-61d59m53.8s\") #Negative relative velocity\n",
    "wf.header['tstart'] = 58602.574837962966 #With increasing negative relative velocity\n",
    "nVelInc = stg.Frame(waterfall=wf)\n",
    "nVelInc = injectETI(nVelInc)\n",
    "nVelInc.save_fil(filename='nVelInc.fil')\n",
    "\n",
    "wf.header['src_dej'] = Angle(\"-61d59m53.8s\") #Negative relative velocity\n",
    "wf.header['tstart'] = 58603.0748379630 #With decreasing negative relative velocity \n",
    "nVelDec = stg.Frame(waterfall=wf)\n",
    "nVelDec = injectETI(nVelDec)\n",
    "nVelDec.save_fil(filename='nVelDec.fil')\n",
    "\n",
    "wf.header['src_dej'] = Angle(\"10d59m53.8s\") #Positive relative velocity\n",
    "wf.header['tstart'] = 58603.0748379630 #With decreasing positive relative velocity \n",
    "pVelDec = stg.Frame(waterfall=wf)\n",
    "pVelDec = injectETI(pVelDec)\n",
    "pVelDec.save_fil(filename='pVelDec.fil')\n",
    "\n",
    "wf.header['src_dej'] = Angle(\"10d59m53.8s\") #Positive relative velocity\n",
    "wf.header['tstart'] = 58602.574837962966 #With increasing positive relative velocity\n",
    "pVelInc = stg.Frame(waterfall=wf)\n",
    "pVelInc = injectETI(pVelInc)\n",
    "pVelInc.save_fil(filename='pVelInc.fil')\n",
    "\n",
    "#fig = plt.figure(figsize=(10, 6))\n",
    "#pVelInc.render()\n",
    "#plt.show()"
   ]
  },
  {
   "cell_type": "code",
   "execution_count": null,
   "id": "92d43a9d",
   "metadata": {},
   "outputs": [],
   "source": []
  }
 ],
 "metadata": {
  "kernelspec": {
   "display_name": "Python 3 (ipykernel)",
   "language": "python",
   "name": "python3"
  },
  "language_info": {
   "codemirror_mode": {
    "name": "ipython",
    "version": 3
   },
   "file_extension": ".py",
   "mimetype": "text/x-python",
   "name": "python",
   "nbconvert_exporter": "python",
   "pygments_lexer": "ipython3",
   "version": "3.8.9"
  }
 },
 "nbformat": 4,
 "nbformat_minor": 5
}
